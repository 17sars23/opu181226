{
 "cells": [
  {
   "cell_type": "markdown",
   "metadata": {
    "colab_type": "text",
    "id": "view-in-github"
   },
   "source": [
    "<a href=\"https://colab.research.google.com/github/kd21/simple_word2vec/blob/master/make_wiki_word2vec_for_lec.ipynb\" target=\"_parent\"><img src=\"https://colab.research.google.com/assets/colab-badge.svg\" alt=\"Open In Colab\"/></a>"
   ]
  },
  {
   "cell_type": "markdown",
   "metadata": {
    "colab_type": "text",
    "id": "9PSzGoMJ9PWM"
   },
   "source": [
    "# google driveをマウント"
   ]
  },
  {
   "cell_type": "code",
   "execution_count": 0,
   "metadata": {
    "colab": {},
    "colab_type": "code",
    "id": "zj7-oXGBcUxx"
   },
   "outputs": [],
   "source": [
    "from google.colab import drive\n",
    "drive.mount('/content/drive')"
   ]
  },
  {
   "cell_type": "markdown",
   "metadata": {
    "colab_type": "text",
    "id": "YjMT_DPq9SfI"
   },
   "source": [
    "# 必要なライブラリをインストール"
   ]
  },
  {
   "cell_type": "code",
   "execution_count": 0,
   "metadata": {
    "colab": {},
    "colab_type": "code",
    "id": "llvkqzsWcdQa"
   },
   "outputs": [],
   "source": [
    "!pip install gensim"
   ]
  },
  {
   "cell_type": "markdown",
   "metadata": {
    "colab_type": "text",
    "id": "qHlx3tdg9XJ8"
   },
   "source": [
    "# wikiモデルの構築\n",
    "WIKI_TXT_FILEPATHは学習に使うテキストファイルのパスに変更してください<br>\n",
    "WIKI_MODELは保存したいファイルパスへ変更してください"
   ]
  },
  {
   "cell_type": "code",
   "execution_count": 0,
   "metadata": {
    "colab": {},
    "colab_type": "code",
    "id": "F4fjmWjvcZEv"
   },
   "outputs": [],
   "source": [
    "from gensim.models import word2vec\n",
    "\n",
    "WIKI_TXT_FILEPATH = '/content/drive/My Drive/GAS/for_TA/simple_word2vec/tokenized_wiki_mini.txt'\n",
    "WIKI_MODEL = '/content/drive/My Drive/GAS/for_TA/simple_word2vec/wiki/wiki.model'\n",
    "\n",
    "data = word2vec.LineSentence(WIKI_TXT_FILEPATH)\n",
    "model = word2vec.Word2Vec(data, sg=1, size=200, min_count=15, window=15, iter=3)\n",
    "model.save(WIKI_MODEL)"
   ]
  },
  {
   "cell_type": "markdown",
   "metadata": {
    "colab_type": "text",
    "id": "oExpvEIJ9ZQC"
   },
   "source": [
    "# モデルの読み込み\n",
    "KAMERIO_MODELにモデルファイルのパスへ変更してください\n"
   ]
  },
  {
   "cell_type": "code",
   "execution_count": 0,
   "metadata": {
    "colab": {},
    "colab_type": "code",
    "id": "SEs0geE5wE2V"
   },
   "outputs": [],
   "source": [
    "import gensim\n",
    "\n",
    "KAMERIO_MODEL =  '/content/drive/My Drive/GAS/for_TA/simple_word2vec/latest-ja-word2vec-gensim-model/word2vec.gensim.model'\n",
    "\n",
    "model = gensim.models.Word2Vec.load(KAMERIO_MODEL)\n",
    "\n",
    "# model.most_similar('クリスマス')\n",
    "# model.most_similar('スマホ')\n",
    "model.most_similar(positive=['東京','フランス'],negative=['日本'])\n",
    "# model.most_similar(positive=['木','イルミネーション'])\n",
    "# model.most_similar(positive=['おじさん','プレゼント','トナカイ','クリスマス'])"
   ]
  }
 ],
 "metadata": {
  "colab": {
   "include_colab_link": true,
   "name": "make_wiki_word2vec_for_lec.ipynb",
   "provenance": [],
   "version": "0.3.2"
  },
  "kernelspec": {
   "display_name": "Python 2",
   "language": "python",
   "name": "python2"
  },
  "language_info": {
   "codemirror_mode": {
    "name": "ipython",
    "version": 2
   },
   "file_extension": ".py",
   "mimetype": "text/x-python",
   "name": "python",
   "nbconvert_exporter": "python",
   "pygments_lexer": "ipython2",
   "version": "2.7.15"
  }
 },
 "nbformat": 4,
 "nbformat_minor": 1
}
