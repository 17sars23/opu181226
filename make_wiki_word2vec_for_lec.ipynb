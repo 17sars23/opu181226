{
  "nbformat": 4,
  "nbformat_minor": 0,
  "metadata": {
    "colab": {
      "name": "make_wiki_word2vec_for_lec.ipynb",
      "version": "0.3.2",
      "provenance": [],
      "include_colab_link": true
    },
    "kernelspec": {
      "name": "python3",
      "display_name": "Python 3"
    }
  },
  "cells": [
    {
      "cell_type": "markdown",
      "metadata": {
        "id": "view-in-github",
        "colab_type": "text"
      },
      "source": [
        "<a href=\"https://colab.research.google.com/github/kd21/simple_word2vec/blob/master/make_wiki_word2vec_for_lec.ipynb\" target=\"_parent\"><img src=\"https://colab.research.google.com/assets/colab-badge.svg\" alt=\"Open In Colab\"/></a>"
      ]
    },
    {
      "metadata": {
        "id": "zj7-oXGBcUxx",
        "colab_type": "code",
        "colab": {}
      },
      "cell_type": "code",
      "source": [
        "# google driveをマウント\n",
        "from google.colab import drive\n",
        "drive.mount('/content/drive')"
      ],
      "execution_count": 0,
      "outputs": []
    },
    {
      "metadata": {
        "id": "llvkqzsWcdQa",
        "colab_type": "code",
        "colab": {}
      },
      "cell_type": "code",
      "source": [
        "# 必要なライブラリをインストール\n",
        "!pip install gensim"
      ],
      "execution_count": 0,
      "outputs": []
    },
    {
      "metadata": {
        "id": "Y2ReEGrEclB1",
        "colab_type": "code",
        "colab": {}
      },
      "cell_type": "code",
      "source": [
        "DIR_TOP = '/content/drive/My Drive'\n",
        "\n",
        "WIKI_TXT_FILEPATH = DIR_TOP + '/GAS/for_TA/simple_word2vec/tokenized_wiki_mini.txt'\n",
        "\n",
        "WIKI_MODEL = DIR_TOP + '/GAS/for_TA/simple_word2vec/wiki/wiki.model'\n",
        "KAMERIO_MODEL = DIR_TOP + '/GAS/for_TA/simple_word2vec/latest-ja-word2vec-gensim-model/word2vec.gensim.model'"
      ],
      "execution_count": 0,
      "outputs": []
    },
    {
      "metadata": {
        "id": "F4fjmWjvcZEv",
        "colab_type": "code",
        "colab": {}
      },
      "cell_type": "code",
      "source": [
        "# モデルの構築\n",
        "from gensim.models import word2vec\n",
        "\n",
        "data = word2vec.LineSentence(WIKI_TXT_FILEPATH)\n",
        "model = word2vec.Word2Vec(data, sg=1, size=200, min_count=15, window=15, iter=3)\n",
        "model.save(MODEL_FILEPATH)"
      ],
      "execution_count": 0,
      "outputs": []
    },
    {
      "metadata": {
        "id": "SEs0geE5wE2V",
        "colab_type": "code",
        "outputId": "75a018ae-4b00-491c-e4a1-63a664f15352",
        "colab": {
          "base_uri": "https://localhost:8080/",
          "height": 275
        }
      },
      "cell_type": "code",
      "source": [
        "# モデルの読み込み\n",
        "import gensim\n",
        "model = gensim.models.Word2Vec.load(KAMERIO_MODEL)\n",
        "\n",
        "# model.most_similar('クリスマス')\n",
        "# model.most_similar('スマホ')\n",
        "model.most_similar(positive=['東京','フランス'],negative=['日本'])\n",
        "# model.most_similar(positive=['木','イルミネーション'])\n",
        "# model.most_similar(positive=['おじさん','プレゼント','トナカイ','クリスマス'])"
      ],
      "execution_count": 26,
      "outputs": [
        {
          "output_type": "stream",
          "text": [
            "/usr/local/lib/python3.6/dist-packages/ipykernel_launcher.py:6: DeprecationWarning: Call to deprecated `most_similar` (Method will be removed in 4.0.0, use self.wv.most_similar() instead).\n",
            "  \n",
            "/usr/local/lib/python3.6/dist-packages/gensim/matutils.py:737: FutureWarning: Conversion of the second argument of issubdtype from `int` to `np.signedinteger` is deprecated. In future, it will be treated as `np.int64 == np.dtype(int).type`.\n",
            "  if np.issubdtype(vec.dtype, np.int):\n"
          ],
          "name": "stderr"
        },
        {
          "output_type": "execute_result",
          "data": {
            "text/plain": [
              "[('リヨン', 0.7790033221244812),\n",
              " ('パリ', 0.7719166874885559),\n",
              " ('ハンブルク', 0.74232017993927),\n",
              " ('ミュンヘン', 0.7405380010604858),\n",
              " ('ケルン', 0.735562264919281),\n",
              " ('ライプツィヒ', 0.7291321754455566),\n",
              " ('フランクフルト', 0.7172220945358276),\n",
              " ('ブリュッセル', 0.7140761017799377),\n",
              " ('ロンドン', 0.7117682695388794),\n",
              " ('ミラノ', 0.7100813388824463)]"
            ]
          },
          "metadata": {
            "tags": []
          },
          "execution_count": 26
        }
      ]
    }
  ]
}